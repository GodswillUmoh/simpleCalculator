{
 "cells": [
  {
   "cell_type": "markdown",
   "id": "37ba808b",
   "metadata": {},
   "source": [
    "<div align=\"center\">\n",
    "  <h1> Basic Arithmetic Calculator\n",
    "  \n",
    "  \n",
    "  </a>\n",
    " \n",
    "  </a>"
   ]
  },
  {
   "cell_type": "markdown",
   "id": "dd16dd06",
   "metadata": {},
   "source": [
    "<sub h>Author: Godswill Samuel Umoh, Python Programming, \n",
    
    "\n",
    "</sub>\n",
    "</div>"
   ]
  },
  {
   "cell_type": "code",
   "execution_count": 1,
   "id": "f9cb3b51",
   "metadata": {},
   "outputs": [
    {
     "name": "stdout",
     "output_type": "stream",
     "text": [
      "Welcome to the Basic Arithmetic Calculator!\n",
      " \n",
      "Please enter the first number: 10\n",
      "Please enter the second number: 5\n",
      "Select an operation:\n",
      "1. Multiplication\n",
      "2. Addition\n",
      "3. Subtraction:\n",
      "Enter your choice (1/2/3): 2\n",
      "Result:  15.0\n",
      "Do you want to perform another calculation? (yes/no):\n",
      " yes\n",
      "Please enter the first number: 8\n",
      "Please enter the second number: 3\n",
      "Select an operation:\n",
      "1. Multiplication\n",
      "2. Addition\n",
      "3. Subtraction:\n",
      "Enter your choice (1/2/3): 3\n",
      "Result:  5.0\n",
      "Do you want to perform another calculation? (yes/no):\n",
      " no\n",
      "Thank you for using the Basic Arithmetic Calculator! Have a great day!\n"
     ]
    }
   ],
   "source": [
    "print(\"Welcome to the Basic Arithmetic Calculator!\\n \")\n",
    "\n",
    "    # receiving input from users\n",
    "while True:\n",
    "    num1 = float(input(\"Please enter the first number: \"))\n",
    "    num2 = float(input(\"Please enter the second number: \"))\n",
    "    user_operation = input(\"Select an operation:\\n1. Multiplication\\n2. Addition\\n3. Subtraction:\\nEnter your choice (1/2/3): \")\n",
    "\n",
    "    #Computation formulas\n",
    "    if user_operation == \"1\":\n",
    "        formula = num1 * num2\n",
    "        print(\"Result: \",formula)\n",
    "\n",
    "    elif user_operation == \"2\":\n",
    "        formula = num1 + num2\n",
    "        print(\"Result: \",formula)\n",
    "\n",
    "    elif user_operation == \"3\":\n",
    "        formula = num1 - num2\n",
    "        print(\"Result: \",formula)\n",
    "    else:\n",
    "        (\"Invalid Selection \")\n",
    "        print(\"You have not selected any number!\")\n",
    "\n",
    "    #Asking user to repeat or quit process\n",
    "    repeat_quit = input(\"Do you want to perform another calculation? (yes/no):\\n \").upper()\n",
    "    if repeat_quit == \"yes\".upper():\n",
    "        continue\n",
    "\n",
    "    else:\n",
    "        print(\"Thank you for using the Basic Arithmetic Calculator! Have a great day!\")\n",
    "        break\n"
   ]
  }
 ],
 "metadata": {
  "kernelspec": {
   "display_name": "Python 3 (ipykernel)",
   "language": "python",
   "name": "python3"
  },
  "language_info": {
   "codemirror_mode": {
    "name": "ipython",
    "version": 3
   },
   "file_extension": ".py",
   "mimetype": "text/x-python",
   "name": "python",
   "nbconvert_exporter": "python",
   "pygments_lexer": "ipython3",
   "version": "3.11.3"
  }
 },
 "nbformat": 4,
 "nbformat_minor": 5
}
